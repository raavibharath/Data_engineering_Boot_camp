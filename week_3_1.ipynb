{
 "cells": [
  {
   "cell_type": "code",
   "execution_count": 2,
   "id": "ec077a13-b28b-49d9-92ed-ff8c217553eb",
   "metadata": {},
   "outputs": [],
   "source": [
    "from pyspark.sql import SparkSession\n"
   ]
  },
  {
   "cell_type": "code",
   "execution_count": 3,
   "id": "dc9054ae-96ea-4718-a8aa-7d536b37ecdf",
   "metadata": {},
   "outputs": [
    {
     "name": "stderr",
     "output_type": "stream",
     "text": [
      "24/12/10 13:19:28 WARN SparkSession: Using an existing Spark session; only runtime SQL configurations will take effect.\n"
     ]
    }
   ],
   "source": [
    "spark = SparkSession.builder.appName(\"PlayerPerformance\").getOrCreate()\n",
    "\n"
   ]
  },
  {
   "cell_type": "code",
   "execution_count": 8,
   "id": "cffff5af-2a95-465a-9692-77390e942fc5",
   "metadata": {},
   "outputs": [
    {
     "name": "stdout",
     "output_type": "stream",
     "text": [
      "False\n"
     ]
    }
   ],
   "source": [
    "import os\n",
    "print(os.path.exists(\"C:/Users/raavi/Desktop/data-engineer-handbook/bootcamp/materials/3-spark-fundamentals/data/match_details.csv\"))\n"
   ]
  },
  {
   "cell_type": "code",
   "execution_count": 11,
   "id": "d5e48821-0ab8-46ec-b408-4975b41c3196",
   "metadata": {},
   "outputs": [],
   "source": [
    "file_path = \"match_details.csv\"\n"
   ]
  },
  {
   "cell_type": "code",
   "execution_count": 14,
   "id": "c6f0d9ab-9575-4afa-a2a5-d4c054246b28",
   "metadata": {},
   "outputs": [
    {
     "name": "stdout",
     "output_type": "stream",
     "text": [
      "root\n",
      " |-- match_id: string (nullable = true)\n",
      " |-- player_gamertag: string (nullable = true)\n",
      " |-- previous_spartan_rank: integer (nullable = true)\n",
      " |-- spartan_rank: integer (nullable = true)\n",
      " |-- previous_total_xp: integer (nullable = true)\n",
      " |-- total_xp: integer (nullable = true)\n",
      " |-- previous_csr_tier: integer (nullable = true)\n",
      " |-- previous_csr_designation: integer (nullable = true)\n",
      " |-- previous_csr: integer (nullable = true)\n",
      " |-- previous_csr_percent_to_next_tier: integer (nullable = true)\n",
      " |-- previous_csr_rank: integer (nullable = true)\n",
      " |-- current_csr_tier: integer (nullable = true)\n",
      " |-- current_csr_designation: integer (nullable = true)\n",
      " |-- current_csr: integer (nullable = true)\n",
      " |-- current_csr_percent_to_next_tier: integer (nullable = true)\n",
      " |-- current_csr_rank: integer (nullable = true)\n",
      " |-- player_rank_on_team: integer (nullable = true)\n",
      " |-- player_finished: boolean (nullable = true)\n",
      " |-- player_average_life: string (nullable = true)\n",
      " |-- player_total_kills: integer (nullable = true)\n",
      " |-- player_total_headshots: integer (nullable = true)\n",
      " |-- player_total_weapon_damage: double (nullable = true)\n",
      " |-- player_total_shots_landed: integer (nullable = true)\n",
      " |-- player_total_melee_kills: integer (nullable = true)\n",
      " |-- player_total_melee_damage: double (nullable = true)\n",
      " |-- player_total_assassinations: integer (nullable = true)\n",
      " |-- player_total_ground_pound_kills: integer (nullable = true)\n",
      " |-- player_total_shoulder_bash_kills: integer (nullable = true)\n",
      " |-- player_total_grenade_damage: double (nullable = true)\n",
      " |-- player_total_power_weapon_damage: double (nullable = true)\n",
      " |-- player_total_power_weapon_grabs: integer (nullable = true)\n",
      " |-- player_total_deaths: integer (nullable = true)\n",
      " |-- player_total_assists: integer (nullable = true)\n",
      " |-- player_total_grenade_kills: integer (nullable = true)\n",
      " |-- did_win: integer (nullable = true)\n",
      " |-- team_id: integer (nullable = true)\n",
      "\n"
     ]
    },
    {
     "name": "stderr",
     "output_type": "stream",
     "text": [
      "                                                                                \r"
     ]
    }
   ],
   "source": [
    "match_details_df = spark.read.csv(file_path, header=True, inferSchema=True)\n",
    "match_details_df.printSchema()\n"
   ]
  },
  {
   "cell_type": "code",
   "execution_count": 21,
   "id": "260772a7-be63-4ef6-840c-7978edd5ce29",
   "metadata": {},
   "outputs": [
    {
     "name": "stdout",
     "output_type": "stream",
     "text": [
      "+--------------------+---------------+---------------------+------------+-----------------+--------+-----------------+------------------------+------------+---------------------------------+-----------------+----------------+-----------------------+-----------+--------------------------------+----------------+-------------------+---------------+-------------------+------------------+----------------------+--------------------------+-------------------------+------------------------+-------------------------+---------------------------+-------------------------------+--------------------------------+---------------------------+--------------------------------+-------------------------------+-------------------+--------------------+--------------------------+-------+-------+\n",
      "|            match_id|player_gamertag|previous_spartan_rank|spartan_rank|previous_total_xp|total_xp|previous_csr_tier|previous_csr_designation|previous_csr|previous_csr_percent_to_next_tier|previous_csr_rank|current_csr_tier|current_csr_designation|current_csr|current_csr_percent_to_next_tier|current_csr_rank|player_rank_on_team|player_finished|player_average_life|player_total_kills|player_total_headshots|player_total_weapon_damage|player_total_shots_landed|player_total_melee_kills|player_total_melee_damage|player_total_assassinations|player_total_ground_pound_kills|player_total_shoulder_bash_kills|player_total_grenade_damage|player_total_power_weapon_damage|player_total_power_weapon_grabs|player_total_deaths|player_total_assists|player_total_grenade_kills|did_win|team_id|\n",
      "+--------------------+---------------+---------------------+------------+-----------------+--------+-----------------+------------------------+------------+---------------------------------+-----------------+----------------+-----------------------+-----------+--------------------------------+----------------+-------------------+---------------+-------------------+------------------+----------------------+--------------------------+-------------------------+------------------------+-------------------------+---------------------------+-------------------------------+--------------------------------+---------------------------+--------------------------------+-------------------------------+-------------------+--------------------+--------------------------+-------+-------+\n",
      "|71d79b23-4143-435...|      taterbase|                    5|           5|            12537|   13383|                1|                       3|           0|                               98|             NULL|               2|                      3|          0|                              26|            NULL|                  4|          false|        PT14.81149S|                 6|                     4|                     255.0|                       28|                       0|                      0.0|                          0|                              0|                               0|                        0.0|                             0.0|                              0|                 13|                   1|                         0|      1|      1|\n",
      "|71d79b23-4143-435...| SuPeRSaYaInG0D|                   18|          18|           131943|  132557|                2|                       3|           0|                                2|             NULL|               1|                      3|          0|                              76|            NULL|                  7|          false|      PT11.2990845S|                 7|                     3|        350.58792304992676|                       49|                       1|                     45.0|                          0|                              0|                               0|                        0.0|                             0.0|                              0|                 18|                   2|                         0|      0|      0|\n",
      "|71d79b23-4143-435...|       EcZachly|                   21|          21|           168811|  169762|                2|                       5|           0|                               94|             NULL|               3|                      5|          0|                              24|            NULL|                  3|          false|      PT19.1357063S|                12|                    12|                     625.0|                       43|                       0|                      0.0|                          0|                              0|                               0|                        0.0|                             0.0|                              0|                 10|                   4|                         0|      1|      1|\n",
      "|71d79b23-4143-435...|    johnsnake04|                   14|          14|            64073|   64639|             NULL|                    NULL|        NULL|                             NULL|             NULL|            NULL|                   NULL|       NULL|                            NULL|            NULL|                  6|          false|      PT21.1521599S|                13|                    13|                     605.0|                       24|                       0|                      0.0|                          0|                              0|                               0|                        0.0|                             0.0|                              0|                  9|                   2|                         0|      0|      0|\n",
      "|71d79b23-4143-435...| Super Mac Bros|                   26|          26|           243425|  244430|                1|                       5|           0|                               86|             NULL|               2|                      5|          0|                               8|            NULL|                  2|          false|      PT12.8373793S|                13|                    12|                     595.0|                       32|                       1|       20.004501342773438|                          0|                              0|                               0|                        0.0|                             0.0|                              0|                 15|                   2|                         0|      1|      1|\n",
      "+--------------------+---------------+---------------------+------------+-----------------+--------+-----------------+------------------------+------------+---------------------------------+-----------------+----------------+-----------------------+-----------+--------------------------------+----------------+-------------------+---------------+-------------------+------------------+----------------------+--------------------------+-------------------------+------------------------+-------------------------+---------------------------+-------------------------------+--------------------------------+---------------------------+--------------------------------+-------------------------------+-------------------+--------------------+--------------------------+-------+-------+\n",
      "only showing top 5 rows\n",
      "\n"
     ]
    }
   ],
   "source": [
    "match_details_df.show(5)\n",
    "\n"
   ]
  },
  {
   "cell_type": "code",
   "execution_count": 20,
   "id": "0282de25-c26d-4fdb-8692-8536208171bd",
   "metadata": {},
   "outputs": [
    {
     "name": "stdout",
     "output_type": "stream",
     "text": [
      "+--------------------+---------------+------------------+----------------------+--------------------------+--------------------+-------------------+\n",
      "|            match_id|player_gamertag|player_total_kills|player_total_headshots|player_total_weapon_damage|player_total_assists|player_total_deaths|\n",
      "+--------------------+---------------+------------------+----------------------+--------------------------+--------------------+-------------------+\n",
      "|71d79b23-4143-435...|      taterbase|                 6|                     4|                     255.0|                   1|                 13|\n",
      "|71d79b23-4143-435...| SuPeRSaYaInG0D|                 7|                     3|        350.58792304992676|                   2|                 18|\n",
      "|71d79b23-4143-435...|       EcZachly|                12|                    12|                     625.0|                   4|                 10|\n",
      "|71d79b23-4143-435...|    johnsnake04|                13|                    13|                     605.0|                   2|                  9|\n",
      "|71d79b23-4143-435...| Super Mac Bros|                13|                    12|                     595.0|                   2|                 15|\n",
      "+--------------------+---------------+------------------+----------------------+--------------------------+--------------------+-------------------+\n",
      "only showing top 5 rows\n",
      "\n"
     ]
    }
   ],
   "source": [
    "player_performance_df = match_details_df.select(\n",
    "    \"match_id\",\n",
    "    \"player_gamertag\",\n",
    "    \"player_total_kills\",\n",
    "    \"player_total_headshots\",\n",
    "    \"player_total_weapon_damage\",\n",
    "    \"player_total_assists\",\n",
    "    \"player_total_deaths\"\n",
    ")\n",
    "player_performance_df.show(5)"
   ]
  },
  {
   "cell_type": "code",
   "execution_count": 22,
   "id": "3f22b574-9ded-4530-860b-1c5f7b8a301c",
   "metadata": {},
   "outputs": [
    {
     "name": "stdout",
     "output_type": "stream",
     "text": [
      "root\n",
      " |-- match_id: string (nullable = true)\n",
      " |-- mapid: string (nullable = true)\n",
      " |-- is_team_game: boolean (nullable = true)\n",
      " |-- playlist_id: string (nullable = true)\n",
      " |-- game_variant_id: string (nullable = true)\n",
      " |-- is_match_over: boolean (nullable = true)\n",
      " |-- completion_date: timestamp (nullable = true)\n",
      " |-- match_duration: string (nullable = true)\n",
      " |-- game_mode: string (nullable = true)\n",
      " |-- map_variant_id: string (nullable = true)\n",
      "\n"
     ]
    }
   ],
   "source": [
    "file_path = \"matches.csv\"\n",
    "match_df = spark.read.csv(file_path, header=True, inferSchema=True)\n",
    "match_df.printSchema()"
   ]
  },
  {
   "cell_type": "code",
   "execution_count": 26,
   "id": "85b90076-9149-4a12-a74f-d8c390cccd25",
   "metadata": {},
   "outputs": [
    {
     "name": "stdout",
     "output_type": "stream",
     "text": [
      "+------------------------------------+------------------------------------+------------+------------------------------------+------------------------------------+-------------+-------------------+--------------+---------+------------------------------------+\n",
      "|                            match_id|                               mapid|is_team_game|                         playlist_id|                     game_variant_id|is_match_over|    completion_date|match_duration|game_mode|                      map_variant_id|\n",
      "+------------------------------------+------------------------------------+------------+------------------------------------+------------------------------------+-------------+-------------------+--------------+---------+------------------------------------+\n",
      "|11de1a94-8d07-4162-9f5f-d3cc753c811c|c7edbf0f-f206-11e4-aa52-24be05e24f7e|        true|f72e0ef0-7c4a-4307-af78-8e38dac3fdba|1e473914-46e4-408d-af26-178fb115de76|         true|2016-02-22 00:00:00|          NULL|     NULL|                                NULL|\n",
      "|d3643e71-3e51-43e6-a200-f4a7f306ac12|cb914b9e-f206-11e4-b447-24be05e24f7e|       false|d0766624-dbd7-4536-ba39-2d890a6143a9|257a305e-4dd3-41f1-9824-dfe7e8bd59e1|         true|2016-02-14 00:00:00|          NULL|     NULL|                                NULL|\n",
      "|d78d2aae-36e4-48ac-a3b5-6d4d90f90ace|c7edbf0f-f206-11e4-aa52-24be05e24f7e|        true|f72e0ef0-7c4a-4307-af78-8e38dac3fdba|1e473914-46e4-408d-af26-178fb115de76|         true|2016-03-24 00:00:00|          NULL|     NULL|55e5ee2e-88df-4657-b9ae-b6ec7ca64614|\n",
      "|b440069e-ec5f-4f51-bdd1-bc0bc7fe1195|c7edbf0f-f206-11e4-aa52-24be05e24f7e|        true|f72e0ef0-7c4a-4307-af78-8e38dac3fdba|1e473914-46e4-408d-af26-178fb115de76|         true|2015-12-23 00:00:00|          NULL|     NULL|ec3eef73-13e3-4d4b-a922-cc195109a842|\n",
      "|1dd475fc-ee6b-4e1d-8140-c44d03812076|c93d708f-f206-11e4-a815-24be05e24f7e|        true|0e39ead4-383b-4452-bbd4-babb7becd82e|42f97cca-2cb4-497a-a0fd-ceef1ba46bcc|         true|2016-04-07 00:00:00|          NULL|     NULL|                                NULL|\n",
      "+------------------------------------+------------------------------------+------------+------------------------------------+------------------------------------+-------------+-------------------+--------------+---------+------------------------------------+\n",
      "only showing top 5 rows\n",
      "\n"
     ]
    }
   ],
   "source": [
    "match_df.show(5, truncate=1000)\n"
   ]
  },
  {
   "cell_type": "code",
   "execution_count": 27,
   "id": "51563a2c-26fb-4c0b-bdec-71de4ba901ed",
   "metadata": {},
   "outputs": [
    {
     "name": "stderr",
     "output_type": "stream",
     "text": [
      "[Stage 17:======================================>                  (8 + 4) / 12]\r"
     ]
    },
    {
     "name": "stdout",
     "output_type": "stream",
     "text": [
      "root\n",
      " |-- match_id: string (nullable = true)\n",
      " |-- player_gamertag: string (nullable = true)\n",
      " |-- medal_id: long (nullable = true)\n",
      " |-- count: integer (nullable = true)\n",
      "\n"
     ]
    },
    {
     "name": "stderr",
     "output_type": "stream",
     "text": [
      "                                                                                \r"
     ]
    }
   ],
   "source": [
    "file_path = \"medals_matches_players.csv\"\n",
    "medals_df = spark.read.csv(file_path, header=True, inferSchema=True)\n",
    "medals_df.printSchema()"
   ]
  },
  {
   "cell_type": "code",
   "execution_count": 29,
   "id": "be64c556-e439-4c2a-9721-d260e8152157",
   "metadata": {},
   "outputs": [
    {
     "name": "stdout",
     "output_type": "stream",
     "text": [
      "+--------------------+---------------+----------+-----+\n",
      "|            match_id|player_gamertag|  medal_id|count|\n",
      "+--------------------+---------------+----------+-----+\n",
      "|009fdac5-e15c-47c...|       EcZachly|3261908037|    7|\n",
      "|009fdac5-e15c-47c...|       EcZachly| 824733727|    2|\n",
      "|009fdac5-e15c-47c...|       EcZachly|2078758684|    2|\n",
      "|009fdac5-e15c-47c...|       EcZachly|2782465081|    2|\n",
      "|9169d1a3-955c-4ea...|       EcZachly|3001183151|    1|\n",
      "+--------------------+---------------+----------+-----+\n",
      "only showing top 5 rows\n",
      "\n"
     ]
    }
   ],
   "source": [
    "medals_df.show(5)"
   ]
  },
  {
   "cell_type": "code",
   "execution_count": 30,
   "id": "3fa7735a-ba3a-4576-b75f-cb6052d666b8",
   "metadata": {},
   "outputs": [
    {
     "name": "stdout",
     "output_type": "stream",
     "text": [
      "root\n",
      " |-- medal_id: long (nullable = true)\n",
      " |-- sprite_uri: string (nullable = true)\n",
      " |-- sprite_left: integer (nullable = true)\n",
      " |-- sprite_top: integer (nullable = true)\n",
      " |-- sprite_sheet_width: integer (nullable = true)\n",
      " |-- sprite_sheet_height: integer (nullable = true)\n",
      " |-- sprite_width: integer (nullable = true)\n",
      " |-- sprite_height: integer (nullable = true)\n",
      " |-- classification: string (nullable = true)\n",
      " |-- description: string (nullable = true)\n",
      " |-- name: string (nullable = true)\n",
      " |-- difficulty: integer (nullable = true)\n",
      "\n"
     ]
    }
   ],
   "source": [
    "file_path = \"medals.csv\"\n",
    "medal_df = spark.read.csv(file_path, header=True, inferSchema=True)\n",
    "medal_df.printSchema()"
   ]
  },
  {
   "cell_type": "code",
   "execution_count": 31,
   "id": "7733a3d0-5359-402f-b2fb-7262bb144cee",
   "metadata": {},
   "outputs": [
    {
     "name": "stdout",
     "output_type": "stream",
     "text": [
      "+----------+-----------------+------------------+----------------------------------------------------------------------------------------------------------------------+\n",
      "|medal_id  |classification   |name              |description                                                                                                           |\n",
      "+----------+-----------------+------------------+----------------------------------------------------------------------------------------------------------------------+\n",
      "|2287626681|Style            |Melee Kill        |Kill an opponent by performing a melee attack.                                                                        |\n",
      "|3718365815|Vehicles         |Phaeton Assist    |Assist a player in destroying an enemy Phaeton.                                                                       |\n",
      "|2150057864|Style            |Pounder           |Kill an opponent with a Ground Pound that has been damaged by another Ground Pound.                                   |\n",
      "|2093481574|WeaponProficiency|Snipeltaneous!    |Kill two or more enemies by using only one Sniper Rifle round.                                                        |\n",
      "|2028249938|CaptureTheFlag   |Carrier Kill      |Kill the enemy flag carrier.                                                                                          |\n",
      "|2896365521|Style            |Team Takedown     |Assist in a Team Takedown.                                                                                            |\n",
      "|2155964350|Breakout         |Fast Break        |Get a kill within the first 10 seconds of a round.                                                                    |\n",
      "|121303890 |WeaponProficiency|Rocket Kill       |Kill an opponent by using a Rocket Launcher.                                                                          |\n",
      "|2494364276|Style            |Last Shot         |Kill an enemy player with the last bullet in your magazine.                                                           |\n",
      "|2359847435|Breakout         |Extinction        |Kill every member of the opposing team in a round of Breakout.                                                        |\n",
      "|3592822316|KillingSpree     |Perfection        |Win a Slayer game without dying and with at least 15 kills.                                                           |\n",
      "|352859864 |Style            |Team Takedown     |Assist in a Team Takedown.                                                                                            |\n",
      "|2462002800|Style            |Combat Evolved    |Catch a power weapon that was blasted off of a weapon pad with a Plasma Grenade.                                      |\n",
      "|2108880282|WeaponProficiency|Snipunch          |Kill an enemy with melee after shooting them with a Sniper Rifle.                                                     |\n",
      "|1524161777|Warzone          |Legendary Takedown|Participate in a Legendary Boss Takedown.                                                                             |\n",
      "|68187090  |Breakout         |Trifecta          |Survive a three-on-one encounter.                                                                                     |\n",
      "|762229696 |Vehicles         |Banshee Destroyed |Destroy an enemy Banshee.                                                                                             |\n",
      "|2271298273|Style            |Clutch Kill       |Kill an enemy to tie or gain the lead in the final seconds.                                                           |\n",
      "|2683910456|Style            |Noob Combo        |Kill an opponent with a headshot from a Battle Rifle after depleting their shields with a fully-charged Plasma Pistol.|\n",
      "|281002471 |Vehicles         |Busted            |Kill an opponent attempting to hijack or skyjack a vehicle.                                                           |\n",
      "+----------+-----------------+------------------+----------------------------------------------------------------------------------------------------------------------+\n",
      "only showing top 20 rows\n",
      "\n"
     ]
    }
   ],
   "source": [
    "medal_types_df = medal_df.select(\"medal_id\", \"classification\", \"name\", \"description\").distinct()\n",
    "medal_types_df.show(truncate=False)"
   ]
  },
  {
   "cell_type": "code",
   "execution_count": 33,
   "id": "7575e9fd-c5b4-4325-ab71-d42e9843a1b0",
   "metadata": {},
   "outputs": [],
   "source": [
    "###Build a Spark job that Disabled automatic broadcast join with spark.conf.set(\"spark.sql.autoBroadcastJoinThreshold\", \"-1\") \n",
    "#Explicitly broadcast JOINs medals and maps Bucket join match_details, matches, \n",
    "#and medal_matches_players on match_id with 16 buckets Aggregate the joined data frame to figure out questions like: \n",
    "#Which player averages the most kills per game? Which playlist gets played the most? Which map gets played the most? \n",
    "#Which map do players get the most Killing Spree medals on? With the aggregated data set Try different .\n",
    "#sortWithinPartitions to see which has the smallest data size (hint: playlists and maps are both very low cardinality)"
   ]
  },
  {
   "cell_type": "code",
   "execution_count": 34,
   "id": "4d5de721-9123-451f-8257-991c71cceded",
   "metadata": {},
   "outputs": [],
   "source": [
    "from pyspark.sql import SparkSession\n",
    "from pyspark.sql.functions import avg, col, desc\n",
    "from pyspark.sql.functions import broadcast"
   ]
  },
  {
   "cell_type": "code",
   "execution_count": 35,
   "id": "10b836fc-483c-4e22-b6b2-cce9dfcd734a",
   "metadata": {},
   "outputs": [],
   "source": [
    "def main():\n",
    "    # Step 1: Initialize Spark Session\n",
    "    spark = SparkSession.builder \\\n",
    "        .appName(\"SparkJob\") \\\n",
    "        .getOrCreate()"
   ]
  },
  {
   "cell_type": "code",
   "execution_count": 36,
   "id": "9cfc8733-03cc-4d7e-831c-e84bf469b8d4",
   "metadata": {},
   "outputs": [],
   "source": [
    "# Step 2: Disable Automatic Broadcast Joins\n",
    "spark.conf.set(\"spark.sql.autoBroadcastJoinThreshold\", \"-1\")"
   ]
  },
  {
   "cell_type": "code",
   "execution_count": 37,
   "id": "c36e03e4-2e1a-4744-90b9-9294e49e3e0f",
   "metadata": {},
   "outputs": [
    {
     "name": "stderr",
     "output_type": "stream",
     "text": [
      "                                                                                \r"
     ]
    }
   ],
   "source": [
    "#loading csv files \n",
    "match_details_df = spark.read.csv(\"match_details.csv\", header=True, inferSchema=True)\n",
    "matches_df = spark.read.csv(\"matches.csv\", header=True, inferSchema=True)\n",
    "medal_matches_players_df = spark.read.csv(\"medals_matches_players.csv\", header=True, inferSchema=True)\n"
   ]
  },
  {
   "cell_type": "code",
   "execution_count": 40,
   "id": "bc56b862-3163-430f-a218-a0bcc46b5257",
   "metadata": {},
   "outputs": [
    {
     "name": "stdout",
     "output_type": "stream",
     "text": [
      "root\n",
      " |-- medal_id: long (nullable = true)\n",
      " |-- sprite_uri: string (nullable = true)\n",
      " |-- sprite_left: integer (nullable = true)\n",
      " |-- sprite_top: integer (nullable = true)\n",
      " |-- sprite_sheet_width: integer (nullable = true)\n",
      " |-- sprite_sheet_height: integer (nullable = true)\n",
      " |-- sprite_width: integer (nullable = true)\n",
      " |-- sprite_height: integer (nullable = true)\n",
      " |-- classification: string (nullable = true)\n",
      " |-- description: string (nullable = true)\n",
      " |-- name: string (nullable = true)\n",
      " |-- difficulty: integer (nullable = true)\n",
      "\n",
      "root\n",
      " |-- mapid: string (nullable = true)\n",
      " |-- name: string (nullable = true)\n",
      " |-- description: string (nullable = true)\n",
      "\n"
     ]
    }
   ],
   "source": [
    "#Explicitly Broadcast Join Medals and Maps\n",
    "medals_df = spark.read.csv(\"medals.csv\", header=True, inferSchema=True)\n",
    "maps_df = spark.read.csv(\"maps.csv\", header=True, inferSchema=True)\n",
    "medals_df.printSchema()\n",
    "maps_df.printSchema()"
   ]
  },
  {
   "cell_type": "code",
   "execution_count": 52,
   "id": "b570a4fb-7fe0-4ac4-b5df-c4274edc6a46",
   "metadata": {},
   "outputs": [
    {
     "name": "stdout",
     "output_type": "stream",
     "text": [
      "+---------------+\n",
      "|           name|\n",
      "+---------------+\n",
      "|Big Game Hunter|\n",
      "| Snipeltaneous!|\n",
      "|      Alley-Oop|\n",
      "|   Supercombine|\n",
      "|      Ball Kill|\n",
      "|           Goal|\n",
      "|      Flag Kill|\n",
      "|Mythic Takedown|\n",
      "|       Headshot|\n",
      "|   Carrier Kill|\n",
      "|Sniper Headshot|\n",
      "|         Busted|\n",
      "|  Ball Champion|\n",
      "|     Flag Joust|\n",
      "|Flagsassination|\n",
      "|     Game Saver|\n",
      "|      Road Trip|\n",
      "|      Beam Kill|\n",
      "|     Perfection|\n",
      "|           Kill|\n",
      "+---------------+\n",
      "only showing top 20 rows\n",
      "\n",
      "+-------------------+\n",
      "|               name|\n",
      "+-------------------+\n",
      "|              Urban|\n",
      "|   Meridian Station|\n",
      "|          Blue Team|\n",
      "|              Plaza|\n",
      "|     Raid on Apex 7|\n",
      "|         Overgrowth|\n",
      "|            Reunion|\n",
      "|              Array|\n",
      "|         Evacuation|\n",
      "|             Empire|\n",
      "|        Enemy Lines|\n",
      "|       The Breaking|\n",
      "|            Genesis|\n",
      "|               Eden|\n",
      "|             Osiris|\n",
      "|Sword of Sanghelios|\n",
      "|           Alliance|\n",
      "|     Breakout Arena|\n",
      "|             Summit|\n",
      "|  Battle of Sunaion|\n",
      "+-------------------+\n",
      "only showing top 20 rows\n",
      "\n"
     ]
    }
   ],
   "source": [
    "medals_df.select(\"name\").distinct().show()\n",
    "maps_df.select(\"name\").distinct().show()"
   ]
  },
  {
   "cell_type": "code",
   "execution_count": 56,
   "id": "cc0ff09f-18bf-435d-8ee6-2762e3e2d22c",
   "metadata": {},
   "outputs": [],
   "source": [
    "medals_maps_joined_df = medals_df.join(\n",
    "    broadcast(maps_df),\n",
    "    medals_df[\"name\"] == maps_df[\"name\"],\n",
    "    \"inner\"\n",
    ")\n"
   ]
  },
  {
   "cell_type": "code",
   "execution_count": 65,
   "id": "5620ba1b-6df3-4864-af92-8c060df6e2dd",
   "metadata": {},
   "outputs": [
    {
     "name": "stdout",
     "output_type": "stream",
     "text": [
      "+--------+----------+-----------+----------+------------------+-------------------+------------+-------------+--------------+-----------+----+----------+-----+----+-----------+\n",
      "|medal_id|sprite_uri|sprite_left|sprite_top|sprite_sheet_width|sprite_sheet_height|sprite_width|sprite_height|classification|description|name|difficulty|mapid|name|description|\n",
      "+--------+----------+-----------+----------+------------------+-------------------+------------+-------------+--------------+-----------+----+----------+-----+----+-----------+\n",
      "+--------+----------+-----------+----------+------------------+-------------------+------------+-------------+--------------+-----------+----+----------+-----+----+-----------+\n",
      "\n"
     ]
    }
   ],
   "source": [
    "medals_maps_joined_df.show(truncate=False)"
   ]
  },
  {
   "cell_type": "code",
   "execution_count": 62,
   "id": "a6259d94-4605-4baf-85e7-99816f23b6fc",
   "metadata": {},
   "outputs": [
    {
     "name": "stderr",
     "output_type": "stream",
     "text": [
      "                                                                                \r"
     ]
    }
   ],
   "source": [
    "medal_matches_players_df = spark.read.csv(\"medals_matches_players.csv\", header=True, inferSchema=True)\n"
   ]
  },
  {
   "cell_type": "code",
   "execution_count": 63,
   "id": "c3cb3304-d926-4896-954a-744b4694d5b9",
   "metadata": {},
   "outputs": [],
   "source": [
    "# Step 2: Perform an Explicit Broadcast Join\n",
    "# Broadcasting medals_df (smaller table) for better performance\n",
    "medals_matches_joined_df = medal_matches_players_df.join(\n",
    "    broadcast(medals_df),\n",
    "    medal_matches_players_df[\"medal_id\"] == medals_df[\"medal_id\"],\n",
    "    \"inner\"\n",
    ")"
   ]
  },
  {
   "cell_type": "code",
   "execution_count": 64,
   "id": "4353d289-7faa-4d96-bee5-d85c1dab05be",
   "metadata": {},
   "outputs": [
    {
     "name": "stdout",
     "output_type": "stream",
     "text": [
      "+------------------------------------+---------------+----------+-----+----------+------------------------------------------------------------------------------------------------------------------------------+-----------+----------+------------------+-------------------+------------+-------------+-----------------+------------------------------------------------------------------+-------------------+----------+\n",
      "|match_id                            |player_gamertag|medal_id  |count|medal_id  |sprite_uri                                                                                                                    |sprite_left|sprite_top|sprite_sheet_width|sprite_sheet_height|sprite_width|sprite_height|classification   |description                                                       |name               |difficulty|\n",
      "+------------------------------------+---------------+----------+-----+----------+------------------------------------------------------------------------------------------------------------------------------+-----------+----------+------------------+-------------------+------------+-------------+-----------------+------------------------------------------------------------------+-------------------+----------+\n",
      "|009fdac5-e15c-47c6-a202-e18ff8800ce7|EcZachly       |3261908037|7    |3261908037|https://content.halocdn.com/media/Default/games/halo-5-guardians/sprites/medalspritesheet-be288ea5c0994a4e9d36f43aee7bc631.png|375        |525       |74                |74                 |1125        |899          |WeaponProficiency|Kill an opponent by shooting them in the head.                    |Headshot           |60        |\n",
      "|009fdac5-e15c-47c6-a202-e18ff8800ce7|EcZachly       |824733727 |2    |824733727 |https://content.halocdn.com/media/Default/games/halo-5-guardians/sprites/medalspritesheet-be288ea5c0994a4e9d36f43aee7bc631.png|975        |450       |74                |74                 |1125        |899          |Style            |Distract an opponent who is then killed.                          |Distraction        |150       |\n",
      "|009fdac5-e15c-47c6-a202-e18ff8800ce7|EcZachly       |2078758684|2    |2078758684|https://content.halocdn.com/media/Default/games/halo-5-guardians/sprites/medalspritesheet-be288ea5c0994a4e9d36f43aee7bc631.png|450        |300       |74                |74                 |1125        |899          |MultiKill        |Kill 2 opponents within 5 seconds of one another.                 |Double Kill        |45        |\n",
      "|009fdac5-e15c-47c6-a202-e18ff8800ce7|EcZachly       |2782465081|2    |2782465081|https://content.halocdn.com/media/Default/games/halo-5-guardians/sprites/medalspritesheet-be288ea5c0994a4e9d36f43aee7bc631.png|0          |675       |74                |74                 |1125        |899          |Style            |Kill an enemy who shot you first.                                 |Reversal           |115       |\n",
      "|9169d1a3-955c-4ea9-a9a4-6d57da097660|EcZachly       |3001183151|1    |3001183151|https://content.halocdn.com/media/Default/games/halo-5-guardians/sprites/medalspritesheet-be288ea5c0994a4e9d36f43aee7bc631.png|300        |600       |74                |74                 |1125        |899          |Style            |Earn the first kill of the match.                                 |First Strike       |180       |\n",
      "|9169d1a3-955c-4ea9-a9a4-6d57da097660|EcZachly       |3565443938|6    |3565443938|https://content.halocdn.com/media/Default/games/halo-5-guardians/sprites/medalspritesheet-be288ea5c0994a4e9d36f43aee7bc631.png|750        |450       |74                |74                 |1125        |899          |Strongholds      |Capture a Stronghold.                                             |Stronghold Captured|15        |\n",
      "|9169d1a3-955c-4ea9-a9a4-6d57da097660|EcZachly       |3491849182|1    |3491849182|https://content.halocdn.com/media/Default/games/halo-5-guardians/sprites/medalspritesheet-be288ea5c0994a4e9d36f43aee7bc631.png|450        |675       |74                |74                 |1125        |899          |Style            |Get a long range Grenade kill.                                    |Hail Mary          |160       |\n",
      "|4a078b2f-65eb-4c61-a48d-5da5e6e65637|EcZachly       |3261908037|8    |3261908037|https://content.halocdn.com/media/Default/games/halo-5-guardians/sprites/medalspritesheet-be288ea5c0994a4e9d36f43aee7bc631.png|375        |525       |74                |74                 |1125        |899          |WeaponProficiency|Kill an opponent by shooting them in the head.                    |Headshot           |60        |\n",
      "|9169d1a3-955c-4ea9-a9a4-6d57da097660|EcZachly       |2105198095|6    |2105198095|https://content.halocdn.com/media/Default/games/halo-5-guardians/sprites/medalspritesheet-be288ea5c0994a4e9d36f43aee7bc631.png|525        |300       |74                |74                 |1125        |899          |Strongholds      |Control all Strongholds on the map.                               |Total Control      |5         |\n",
      "|9169d1a3-955c-4ea9-a9a4-6d57da097660|EcZachly       |2916014239|3    |2916014239|https://content.halocdn.com/media/Default/games/halo-5-guardians/sprites/medalspritesheet-be288ea5c0994a4e9d36f43aee7bc631.png|375        |450       |74                |74                 |1125        |899          |Style            |Assist in a Team Takedown.                                        |Team Takedown      |245       |\n",
      "|9169d1a3-955c-4ea9-a9a4-6d57da097660|EcZachly       |3261908037|6    |3261908037|https://content.halocdn.com/media/Default/games/halo-5-guardians/sprites/medalspritesheet-be288ea5c0994a4e9d36f43aee7bc631.png|375        |525       |74                |74                 |1125        |899          |WeaponProficiency|Kill an opponent by shooting them in the head.                    |Headshot           |60        |\n",
      "|9169d1a3-955c-4ea9-a9a4-6d57da097660|EcZachly       |1351381581|2    |1351381581|https://content.halocdn.com/media/Default/games/halo-5-guardians/sprites/medalspritesheet-be288ea5c0994a4e9d36f43aee7bc631.png|225        |150       |74                |74                 |1125        |899          |Strongholds      |Kill an enemy that is actively capturing a Stronghold.            |Stronghold Defense |20        |\n",
      "|9169d1a3-955c-4ea9-a9a4-6d57da097660|EcZachly       |2838259753|1    |2838259753|https://content.halocdn.com/media/Default/games/halo-5-guardians/sprites/medalspritesheet-be288ea5c0994a4e9d36f43aee7bc631.png|150        |600       |74                |74                 |1125        |899          |Style            |Save a teammate by killing his attacker.                          |Protector          |145       |\n",
      "|9169d1a3-955c-4ea9-a9a4-6d57da097660|EcZachly       |3354395650|1    |3354395650|https://content.halocdn.com/media/Default/games/halo-5-guardians/sprites/medalspritesheet-be288ea5c0994a4e9d36f43aee7bc631.png|375        |600       |74                |74                 |1125        |899          |Strongholds      |Capture 3 Strongholds in one life.                                |Capture Spree      |10        |\n",
      "|9169d1a3-955c-4ea9-a9a4-6d57da097660|EcZachly       |298813630 |1    |298813630 |https://content.halocdn.com/media/Default/games/halo-5-guardians/sprites/medalspritesheet-be288ea5c0994a4e9d36f43aee7bc631.png|0          |825       |74                |74                 |1125        |899          |Style            |Kill an enemy with Spartan Charge.                                |Spartan Charge     |135       |\n",
      "|9169d1a3-955c-4ea9-a9a4-6d57da097660|EcZachly       |2430242797|1    |2430242797|https://content.halocdn.com/media/Default/games/halo-5-guardians/sprites/medalspritesheet-be288ea5c0994a4e9d36f43aee7bc631.png|675        |300       |74                |74                 |1125        |899          |KillingSpree     |Kill 5 opponents without dying.                                   |Killing Spree      |45        |\n",
      "|5ae5a459-6372-4915-93a7-a63173230f34|EcZachly       |3261908037|9    |3261908037|https://content.halocdn.com/media/Default/games/halo-5-guardians/sprites/medalspritesheet-be288ea5c0994a4e9d36f43aee7bc631.png|375        |525       |74                |74                 |1125        |899          |WeaponProficiency|Kill an opponent by shooting them in the head.                    |Headshot           |60        |\n",
      "|5ae5a459-6372-4915-93a7-a63173230f34|EcZachly       |2078758684|2    |2078758684|https://content.halocdn.com/media/Default/games/halo-5-guardians/sprites/medalspritesheet-be288ea5c0994a4e9d36f43aee7bc631.png|450        |300       |74                |74                 |1125        |899          |MultiKill        |Kill 2 opponents within 5 seconds of one another.                 |Double Kill        |45        |\n",
      "|5ae5a459-6372-4915-93a7-a63173230f34|EcZachly       |824733727 |1    |824733727 |https://content.halocdn.com/media/Default/games/halo-5-guardians/sprites/medalspritesheet-be288ea5c0994a4e9d36f43aee7bc631.png|975        |450       |74                |74                 |1125        |899          |Style            |Distract an opponent who is then killed.                          |Distraction        |150       |\n",
      "|5ae5a459-6372-4915-93a7-a63173230f34|EcZachly       |1080468863|1    |1080468863|https://content.halocdn.com/media/Default/games/halo-5-guardians/sprites/medalspritesheet-be288ea5c0994a4e9d36f43aee7bc631.png|75         |0         |74                |74                 |1125        |899          |WeaponProficiency|Kill a player in four shots with the Battle Rifle without missing.|Perfect Kill       |45        |\n",
      "+------------------------------------+---------------+----------+-----+----------+------------------------------------------------------------------------------------------------------------------------------+-----------+----------+------------------+-------------------+------------+-------------+-----------------+------------------------------------------------------------------+-------------------+----------+\n",
      "only showing top 20 rows\n",
      "\n"
     ]
    }
   ],
   "source": [
    "medals_matches_joined_df.show(truncate=False)"
   ]
  },
  {
   "cell_type": "code",
   "execution_count": 66,
   "id": "ede08874-d20f-4a00-9e59-711523beb3db",
   "metadata": {},
   "outputs": [
    {
     "name": "stderr",
     "output_type": "stream",
     "text": [
      "24/12/10 14:45:59 WARN SparkSession: Using an existing Spark session; only runtime SQL configurations will take effect.\n"
     ]
    }
   ],
   "source": [
    "#Step 5: Bucket Join on match_id\n",
    "spark = SparkSession.builder \\\n",
    "    .appName(\"BucketJoinExample\") \\\n",
    "    .config(\"spark.sql.catalogImplementation\", \"hive\") \\\n",
    "    .enableHiveSupport() \\\n",
    "    .getOrCreate()"
   ]
  },
  {
   "cell_type": "code",
   "execution_count": 67,
   "id": "0e4c8182-2b12-406a-84e7-53b6f99bde47",
   "metadata": {},
   "outputs": [
    {
     "name": "stderr",
     "output_type": "stream",
     "text": [
      "                                                                                \r"
     ]
    }
   ],
   "source": [
    "match_details_df.write.bucketBy(16, \"match_id\") \\\n",
    "    .format(\"parquet\") \\\n",
    "    .mode(\"overwrite\") \\\n",
    "    .saveAsTable(\"default.match_details_bucketed\")"
   ]
  },
  {
   "cell_type": "code",
   "execution_count": 68,
   "id": "10871432-78ac-43d6-b683-c27c3156cdb9",
   "metadata": {},
   "outputs": [
    {
     "name": "stderr",
     "output_type": "stream",
     "text": [
      "                                                                                \r"
     ]
    }
   ],
   "source": [
    "matches_df.write.bucketBy(16, \"match_id\") \\\n",
    "    .format(\"parquet\") \\\n",
    "    .mode(\"overwrite\") \\\n",
    "    .saveAsTable(\"default.matches_bucketed\")"
   ]
  },
  {
   "cell_type": "code",
   "execution_count": 69,
   "id": "2751cd81-58f3-4ab5-8066-1528838b40fe",
   "metadata": {},
   "outputs": [
    {
     "name": "stderr",
     "output_type": "stream",
     "text": [
      "                                                                                \r"
     ]
    }
   ],
   "source": [
    "medal_matches_players_df.write.bucketBy(16, \"match_id\") \\\n",
    "    .format(\"parquet\") \\\n",
    "    .mode(\"overwrite\") \\\n",
    "    .saveAsTable(\"default.medal_matches_players_bucketed\")"
   ]
  },
  {
   "cell_type": "code",
   "execution_count": 70,
   "id": "92c002f7-fbca-4a4b-ac92-4c406ff2b178",
   "metadata": {},
   "outputs": [],
   "source": [
    "match_details_bucketed = spark.read.table(\"default.match_details_bucketed\")\n",
    "matches_bucketed = spark.read.table(\"default.matches_bucketed\")\n",
    "medal_matches_players_bucketed = spark.read.table(\"default.medal_matches_players_bucketed\")\n"
   ]
  },
  {
   "cell_type": "code",
   "execution_count": 71,
   "id": "c0590cb0-e797-4204-93fc-ee4c2bf2d11c",
   "metadata": {},
   "outputs": [],
   "source": [
    "joined_df = match_details_bucketed.alias(\"md\") \\\n",
    "    .join(matches_bucketed.alias(\"m\"), col(\"md.match_id\") == col(\"m.match_id\")) \\\n",
    "    .join(medal_matches_players_bucketed.alias(\"mp\"), col(\"md.match_id\") == col(\"mp.match_id\"))"
   ]
  },
  {
   "cell_type": "code",
   "execution_count": 72,
   "id": "d48c9ad2-fc79-4d73-8ce8-f605182945c1",
   "metadata": {},
   "outputs": [
    {
     "name": "stderr",
     "output_type": "stream",
     "text": [
      "[Stage 87:==============>                                           (1 + 3) / 4]\r"
     ]
    },
    {
     "name": "stdout",
     "output_type": "stream",
     "text": [
      "+------------------------------------+---------------+---------------------+------------+-----------------+--------+-----------------+------------------------+------------+---------------------------------+-----------------+----------------+-----------------------+-----------+--------------------------------+----------------+-------------------+---------------+-------------------+------------------+----------------------+--------------------------+-------------------------+------------------------+-------------------------+---------------------------+-------------------------------+--------------------------------+---------------------------+--------------------------------+-------------------------------+-------------------+--------------------+--------------------------+-------+-------+------------------------------------+------------------------------------+------------+------------------------------------+------------------------------------+-------------+-------------------+--------------+---------+--------------+------------------------------------+---------------+----------+-----+\n",
      "|match_id                            |player_gamertag|previous_spartan_rank|spartan_rank|previous_total_xp|total_xp|previous_csr_tier|previous_csr_designation|previous_csr|previous_csr_percent_to_next_tier|previous_csr_rank|current_csr_tier|current_csr_designation|current_csr|current_csr_percent_to_next_tier|current_csr_rank|player_rank_on_team|player_finished|player_average_life|player_total_kills|player_total_headshots|player_total_weapon_damage|player_total_shots_landed|player_total_melee_kills|player_total_melee_damage|player_total_assassinations|player_total_ground_pound_kills|player_total_shoulder_bash_kills|player_total_grenade_damage|player_total_power_weapon_damage|player_total_power_weapon_grabs|player_total_deaths|player_total_assists|player_total_grenade_kills|did_win|team_id|match_id                            |mapid                               |is_team_game|playlist_id                         |game_variant_id                     |is_match_over|completion_date    |match_duration|game_mode|map_variant_id|match_id                            |player_gamertag|medal_id  |count|\n",
      "+------------------------------------+---------------+---------------------+------------+-----------------+--------+-----------------+------------------------+------------+---------------------------------+-----------------+----------------+-----------------------+-----------+--------------------------------+----------------+-------------------+---------------+-------------------+------------------+----------------------+--------------------------+-------------------------+------------------------+-------------------------+---------------------------+-------------------------------+--------------------------------+---------------------------+--------------------------------+-------------------------------+-------------------+--------------------+--------------------------+-------+-------+------------------------------------+------------------------------------+------------+------------------------------------+------------------------------------+-------------+-------------------+--------------+---------+--------------+------------------------------------+---------------+----------+-----+\n",
      "|00169217-cca6-4b47-8df0-559ee424143f|King Terror V  |68                   |68          |1597155          |1601153 |1                |7                       |2036        |0                                |17               |1               |7                      |2039       |0                               |17              |1                  |false          |PT29.9643588S      |14                |11                    |530.6970062255859         |22                       |1                       |45.0                     |0                          |0                              |0                               |0.0                        |0.0                             |0                              |7                  |2                   |0                         |1      |1      |00169217-cca6-4b47-8df0-559ee424143f|cc040aa1-f206-11e4-a3e0-24be05e24f7e|true        |2323b76a-db98-4e03-aa37-e171cfbdd1a4|257a305e-4dd3-41f1-9824-dfe7e8bd59e1|true         |2016-03-13 00:00:00|NULL          |NULL     |NULL          |00169217-cca6-4b47-8df0-559ee424143f|King Terror V  |3261908037|11   |\n",
      "|00169217-cca6-4b47-8df0-559ee424143f|King Terror V  |68                   |68          |1597155          |1601153 |1                |7                       |2036        |0                                |17               |1               |7                      |2039       |0                               |17              |1                  |false          |PT29.9643588S      |14                |11                    |530.6970062255859         |22                       |1                       |45.0                     |0                          |0                              |0                               |0.0                        |0.0                             |0                              |7                  |2                   |0                         |1      |1      |00169217-cca6-4b47-8df0-559ee424143f|cc040aa1-f206-11e4-a3e0-24be05e24f7e|true        |2323b76a-db98-4e03-aa37-e171cfbdd1a4|257a305e-4dd3-41f1-9824-dfe7e8bd59e1|true         |2016-03-13 00:00:00|NULL          |NULL     |NULL          |00169217-cca6-4b47-8df0-559ee424143f|King Terror V  |3001183151|1    |\n",
      "|00169217-cca6-4b47-8df0-559ee424143f|King Terror V  |68                   |68          |1597155          |1601153 |1                |7                       |2036        |0                                |17               |1               |7                      |2039       |0                               |17              |1                  |false          |PT29.9643588S      |14                |11                    |530.6970062255859         |22                       |1                       |45.0                     |0                          |0                              |0                               |0.0                        |0.0                             |0                              |7                  |2                   |0                         |1      |1      |00169217-cca6-4b47-8df0-559ee424143f|cc040aa1-f206-11e4-a3e0-24be05e24f7e|true        |2323b76a-db98-4e03-aa37-e171cfbdd1a4|257a305e-4dd3-41f1-9824-dfe7e8bd59e1|true         |2016-03-13 00:00:00|NULL          |NULL     |NULL          |00169217-cca6-4b47-8df0-559ee424143f|King Terror V  |824733727 |3    |\n",
      "|00169217-cca6-4b47-8df0-559ee424143f|King Terror V  |68                   |68          |1597155          |1601153 |1                |7                       |2036        |0                                |17               |1               |7                      |2039       |0                               |17              |1                  |false          |PT29.9643588S      |14                |11                    |530.6970062255859         |22                       |1                       |45.0                     |0                          |0                              |0                               |0.0                        |0.0                             |0                              |7                  |2                   |0                         |1      |1      |00169217-cca6-4b47-8df0-559ee424143f|cc040aa1-f206-11e4-a3e0-24be05e24f7e|true        |2323b76a-db98-4e03-aa37-e171cfbdd1a4|257a305e-4dd3-41f1-9824-dfe7e8bd59e1|true         |2016-03-13 00:00:00|NULL          |NULL     |NULL          |00169217-cca6-4b47-8df0-559ee424143f|King Terror V  |2078758684|3    |\n",
      "|00169217-cca6-4b47-8df0-559ee424143f|King Terror V  |68                   |68          |1597155          |1601153 |1                |7                       |2036        |0                                |17               |1               |7                      |2039       |0                               |17              |1                  |false          |PT29.9643588S      |14                |11                    |530.6970062255859         |22                       |1                       |45.0                     |0                          |0                              |0                               |0.0                        |0.0                             |0                              |7                  |2                   |0                         |1      |1      |00169217-cca6-4b47-8df0-559ee424143f|cc040aa1-f206-11e4-a3e0-24be05e24f7e|true        |2323b76a-db98-4e03-aa37-e171cfbdd1a4|257a305e-4dd3-41f1-9824-dfe7e8bd59e1|true         |2016-03-13 00:00:00|NULL          |NULL     |NULL          |00169217-cca6-4b47-8df0-559ee424143f|King Terror V  |2430242797|1    |\n",
      "|00169217-cca6-4b47-8df0-559ee424143f|King Terror V  |68                   |68          |1597155          |1601153 |1                |7                       |2036        |0                                |17               |1               |7                      |2039       |0                               |17              |1                  |false          |PT29.9643588S      |14                |11                    |530.6970062255859         |22                       |1                       |45.0                     |0                          |0                              |0                               |0.0                        |0.0                             |0                              |7                  |2                   |0                         |1      |1      |00169217-cca6-4b47-8df0-559ee424143f|cc040aa1-f206-11e4-a3e0-24be05e24f7e|true        |2323b76a-db98-4e03-aa37-e171cfbdd1a4|257a305e-4dd3-41f1-9824-dfe7e8bd59e1|true         |2016-03-13 00:00:00|NULL          |NULL     |NULL          |00169217-cca6-4b47-8df0-559ee424143f|King Terror V  |466059351 |1    |\n",
      "|00169217-cca6-4b47-8df0-559ee424143f|King Terror V  |68                   |68          |1597155          |1601153 |1                |7                       |2036        |0                                |17               |1               |7                      |2039       |0                               |17              |1                  |false          |PT29.9643588S      |14                |11                    |530.6970062255859         |22                       |1                       |45.0                     |0                          |0                              |0                               |0.0                        |0.0                             |0                              |7                  |2                   |0                         |1      |1      |00169217-cca6-4b47-8df0-559ee424143f|cc040aa1-f206-11e4-a3e0-24be05e24f7e|true        |2323b76a-db98-4e03-aa37-e171cfbdd1a4|257a305e-4dd3-41f1-9824-dfe7e8bd59e1|true         |2016-03-13 00:00:00|NULL          |NULL     |NULL          |00169217-cca6-4b47-8df0-559ee424143f|King Terror V  |2782465081|2    |\n",
      "|00169217-cca6-4b47-8df0-559ee424143f|King Terror V  |68                   |68          |1597155          |1601153 |1                |7                       |2036        |0                                |17               |1               |7                      |2039       |0                               |17              |1                  |false          |PT29.9643588S      |14                |11                    |530.6970062255859         |22                       |1                       |45.0                     |0                          |0                              |0                               |0.0                        |0.0                             |0                              |7                  |2                   |0                         |1      |1      |00169217-cca6-4b47-8df0-559ee424143f|cc040aa1-f206-11e4-a3e0-24be05e24f7e|true        |2323b76a-db98-4e03-aa37-e171cfbdd1a4|257a305e-4dd3-41f1-9824-dfe7e8bd59e1|true         |2016-03-13 00:00:00|NULL          |NULL     |NULL          |00169217-cca6-4b47-8df0-559ee424143f|King Terror V  |2287626681|1    |\n",
      "|00169217-cca6-4b47-8df0-559ee424143f|King Terror V  |68                   |68          |1597155          |1601153 |1                |7                       |2036        |0                                |17               |1               |7                      |2039       |0                               |17              |1                  |false          |PT29.9643588S      |14                |11                    |530.6970062255859         |22                       |1                       |45.0                     |0                          |0                              |0                               |0.0                        |0.0                             |0                              |7                  |2                   |0                         |1      |1      |00169217-cca6-4b47-8df0-559ee424143f|cc040aa1-f206-11e4-a3e0-24be05e24f7e|true        |2323b76a-db98-4e03-aa37-e171cfbdd1a4|257a305e-4dd3-41f1-9824-dfe7e8bd59e1|true         |2016-03-13 00:00:00|NULL          |NULL     |NULL          |00169217-cca6-4b47-8df0-559ee424143f|King Sope      |2782465081|2    |\n",
      "|00169217-cca6-4b47-8df0-559ee424143f|King Terror V  |68                   |68          |1597155          |1601153 |1                |7                       |2036        |0                                |17               |1               |7                      |2039       |0                               |17              |1                  |false          |PT29.9643588S      |14                |11                    |530.6970062255859         |22                       |1                       |45.0                     |0                          |0                              |0                               |0.0                        |0.0                             |0                              |7                  |2                   |0                         |1      |1      |00169217-cca6-4b47-8df0-559ee424143f|cc040aa1-f206-11e4-a3e0-24be05e24f7e|true        |2323b76a-db98-4e03-aa37-e171cfbdd1a4|257a305e-4dd3-41f1-9824-dfe7e8bd59e1|true         |2016-03-13 00:00:00|NULL          |NULL     |NULL          |00169217-cca6-4b47-8df0-559ee424143f|King Sope      |3261908037|10   |\n",
      "|00169217-cca6-4b47-8df0-559ee424143f|King Terror V  |68                   |68          |1597155          |1601153 |1                |7                       |2036        |0                                |17               |1               |7                      |2039       |0                               |17              |1                  |false          |PT29.9643588S      |14                |11                    |530.6970062255859         |22                       |1                       |45.0                     |0                          |0                              |0                               |0.0                        |0.0                             |0                              |7                  |2                   |0                         |1      |1      |00169217-cca6-4b47-8df0-559ee424143f|cc040aa1-f206-11e4-a3e0-24be05e24f7e|true        |2323b76a-db98-4e03-aa37-e171cfbdd1a4|257a305e-4dd3-41f1-9824-dfe7e8bd59e1|true         |2016-03-13 00:00:00|NULL          |NULL     |NULL          |00169217-cca6-4b47-8df0-559ee424143f|King Sope      |2287626681|1    |\n",
      "|00169217-cca6-4b47-8df0-559ee424143f|King Terror V  |68                   |68          |1597155          |1601153 |1                |7                       |2036        |0                                |17               |1               |7                      |2039       |0                               |17              |1                  |false          |PT29.9643588S      |14                |11                    |530.6970062255859         |22                       |1                       |45.0                     |0                          |0                              |0                               |0.0                        |0.0                             |0                              |7                  |2                   |0                         |1      |1      |00169217-cca6-4b47-8df0-559ee424143f|cc040aa1-f206-11e4-a3e0-24be05e24f7e|true        |2323b76a-db98-4e03-aa37-e171cfbdd1a4|257a305e-4dd3-41f1-9824-dfe7e8bd59e1|true         |2016-03-13 00:00:00|NULL          |NULL     |NULL          |00169217-cca6-4b47-8df0-559ee424143f|King Sope      |2078758684|1    |\n",
      "|00169217-cca6-4b47-8df0-559ee424143f|King Terror V  |68                   |68          |1597155          |1601153 |1                |7                       |2036        |0                                |17               |1               |7                      |2039       |0                               |17              |1                  |false          |PT29.9643588S      |14                |11                    |530.6970062255859         |22                       |1                       |45.0                     |0                          |0                              |0                               |0.0                        |0.0                             |0                              |7                  |2                   |0                         |1      |1      |00169217-cca6-4b47-8df0-559ee424143f|cc040aa1-f206-11e4-a3e0-24be05e24f7e|true        |2323b76a-db98-4e03-aa37-e171cfbdd1a4|257a305e-4dd3-41f1-9824-dfe7e8bd59e1|true         |2016-03-13 00:00:00|NULL          |NULL     |NULL          |00169217-cca6-4b47-8df0-559ee424143f|King Sope      |824733727 |1    |\n",
      "|00169217-cca6-4b47-8df0-559ee424143f|King Terror V  |68                   |68          |1597155          |1601153 |1                |7                       |2036        |0                                |17               |1               |7                      |2039       |0                               |17              |1                  |false          |PT29.9643588S      |14                |11                    |530.6970062255859         |22                       |1                       |45.0                     |0                          |0                              |0                               |0.0                        |0.0                             |0                              |7                  |2                   |0                         |1      |1      |00169217-cca6-4b47-8df0-559ee424143f|cc040aa1-f206-11e4-a3e0-24be05e24f7e|true        |2323b76a-db98-4e03-aa37-e171cfbdd1a4|257a305e-4dd3-41f1-9824-dfe7e8bd59e1|true         |2016-03-13 00:00:00|NULL          |NULL     |NULL          |00169217-cca6-4b47-8df0-559ee424143f|mcnaeric       |3261908037|9    |\n",
      "|00169217-cca6-4b47-8df0-559ee424143f|King Terror V  |68                   |68          |1597155          |1601153 |1                |7                       |2036        |0                                |17               |1               |7                      |2039       |0                               |17              |1                  |false          |PT29.9643588S      |14                |11                    |530.6970062255859         |22                       |1                       |45.0                     |0                          |0                              |0                               |0.0                        |0.0                             |0                              |7                  |2                   |0                         |1      |1      |00169217-cca6-4b47-8df0-559ee424143f|cc040aa1-f206-11e4-a3e0-24be05e24f7e|true        |2323b76a-db98-4e03-aa37-e171cfbdd1a4|257a305e-4dd3-41f1-9824-dfe7e8bd59e1|true         |2016-03-13 00:00:00|NULL          |NULL     |NULL          |00169217-cca6-4b47-8df0-559ee424143f|mcnaeric       |2782465081|1    |\n",
      "|00169217-cca6-4b47-8df0-559ee424143f|King Terror V  |68                   |68          |1597155          |1601153 |1                |7                       |2036        |0                                |17               |1               |7                      |2039       |0                               |17              |1                  |false          |PT29.9643588S      |14                |11                    |530.6970062255859         |22                       |1                       |45.0                     |0                          |0                              |0                               |0.0                        |0.0                             |0                              |7                  |2                   |0                         |1      |1      |00169217-cca6-4b47-8df0-559ee424143f|cc040aa1-f206-11e4-a3e0-24be05e24f7e|true        |2323b76a-db98-4e03-aa37-e171cfbdd1a4|257a305e-4dd3-41f1-9824-dfe7e8bd59e1|true         |2016-03-13 00:00:00|NULL          |NULL     |NULL          |00169217-cca6-4b47-8df0-559ee424143f|mcnaeric       |2078758684|1    |\n",
      "|00169217-cca6-4b47-8df0-559ee424143f|King Terror V  |68                   |68          |1597155          |1601153 |1                |7                       |2036        |0                                |17               |1               |7                      |2039       |0                               |17              |1                  |false          |PT29.9643588S      |14                |11                    |530.6970062255859         |22                       |1                       |45.0                     |0                          |0                              |0                               |0.0                        |0.0                             |0                              |7                  |2                   |0                         |1      |1      |00169217-cca6-4b47-8df0-559ee424143f|cc040aa1-f206-11e4-a3e0-24be05e24f7e|true        |2323b76a-db98-4e03-aa37-e171cfbdd1a4|257a305e-4dd3-41f1-9824-dfe7e8bd59e1|true         |2016-03-13 00:00:00|NULL          |NULL     |NULL          |00169217-cca6-4b47-8df0-559ee424143f|EXTREMENOVA    |2287626681|1    |\n",
      "|00169217-cca6-4b47-8df0-559ee424143f|King Terror V  |68                   |68          |1597155          |1601153 |1                |7                       |2036        |0                                |17               |1               |7                      |2039       |0                               |17              |1                  |false          |PT29.9643588S      |14                |11                    |530.6970062255859         |22                       |1                       |45.0                     |0                          |0                              |0                               |0.0                        |0.0                             |0                              |7                  |2                   |0                         |1      |1      |00169217-cca6-4b47-8df0-559ee424143f|cc040aa1-f206-11e4-a3e0-24be05e24f7e|true        |2323b76a-db98-4e03-aa37-e171cfbdd1a4|257a305e-4dd3-41f1-9824-dfe7e8bd59e1|true         |2016-03-13 00:00:00|NULL          |NULL     |NULL          |00169217-cca6-4b47-8df0-559ee424143f|EXTREMENOVA    |3261908037|6    |\n",
      "|00169217-cca6-4b47-8df0-559ee424143f|King Terror V  |68                   |68          |1597155          |1601153 |1                |7                       |2036        |0                                |17               |1               |7                      |2039       |0                               |17              |1                  |false          |PT29.9643588S      |14                |11                    |530.6970062255859         |22                       |1                       |45.0                     |0                          |0                              |0                               |0.0                        |0.0                             |0                              |7                  |2                   |0                         |1      |1      |00169217-cca6-4b47-8df0-559ee424143f|cc040aa1-f206-11e4-a3e0-24be05e24f7e|true        |2323b76a-db98-4e03-aa37-e171cfbdd1a4|257a305e-4dd3-41f1-9824-dfe7e8bd59e1|true         |2016-03-13 00:00:00|NULL          |NULL     |NULL          |00169217-cca6-4b47-8df0-559ee424143f|EXTREMENOVA    |2782465081|1    |\n",
      "|00169217-cca6-4b47-8df0-559ee424143f|King Terror V  |68                   |68          |1597155          |1601153 |1                |7                       |2036        |0                                |17               |1               |7                      |2039       |0                               |17              |1                  |false          |PT29.9643588S      |14                |11                    |530.6970062255859         |22                       |1                       |45.0                     |0                          |0                              |0                               |0.0                        |0.0                             |0                              |7                  |2                   |0                         |1      |1      |00169217-cca6-4b47-8df0-559ee424143f|cc040aa1-f206-11e4-a3e0-24be05e24f7e|true        |2323b76a-db98-4e03-aa37-e171cfbdd1a4|257a305e-4dd3-41f1-9824-dfe7e8bd59e1|true         |2016-03-13 00:00:00|NULL          |NULL     |NULL          |00169217-cca6-4b47-8df0-559ee424143f|EXTREMENOVA    |250435527 |1    |\n",
      "+------------------------------------+---------------+---------------------+------------+-----------------+--------+-----------------+------------------------+------------+---------------------------------+-----------------+----------------+-----------------------+-----------+--------------------------------+----------------+-------------------+---------------+-------------------+------------------+----------------------+--------------------------+-------------------------+------------------------+-------------------------+---------------------------+-------------------------------+--------------------------------+---------------------------+--------------------------------+-------------------------------+-------------------+--------------------+--------------------------+-------+-------+------------------------------------+------------------------------------+------------+------------------------------------+------------------------------------+-------------+-------------------+--------------+---------+--------------+------------------------------------+---------------+----------+-----+\n",
      "only showing top 20 rows\n",
      "\n"
     ]
    },
    {
     "name": "stderr",
     "output_type": "stream",
     "text": [
      "                                                                                \r"
     ]
    }
   ],
   "source": [
    "joined_df.show(truncate=False)"
   ]
  },
  {
   "cell_type": "code",
   "execution_count": 73,
   "id": "50cc0694-4c72-4e3c-93bd-bd6a10f50e20",
   "metadata": {},
   "outputs": [],
   "source": [
    "#Step 6: Aggregate the Joined Data\n",
    "# 1. Player with the highest average kills per game\n",
    "player_avg_kills = joined_df.groupBy(col(\"mp.player_gamertag\")) \\\n",
    "    .agg(avg(\"md.player_total_kills\").alias(\"avg_kills\")) \\\n",
    "    .orderBy(desc(\"avg_kills\"))"
   ]
  },
  {
   "cell_type": "code",
   "execution_count": 74,
   "id": "ab2a590f-bc2c-4890-8c90-8957509c2832",
   "metadata": {},
   "outputs": [
    {
     "name": "stdout",
     "output_type": "stream",
     "text": [
      "Player who averages the most kills per game:\n"
     ]
    },
    {
     "name": "stderr",
     "output_type": "stream",
     "text": [
      "[Stage 100:========================>                                (3 + 4) / 7]\r"
     ]
    },
    {
     "name": "stdout",
     "output_type": "stream",
     "text": [
      "+---------------+------------------+\n",
      "|player_gamertag|avg_kills         |\n",
      "+---------------+------------------+\n",
      "|zombiesrhunters|56.0              |\n",
      "|gimpinator14   |56.0              |\n",
      "|hibblesnbitz   |56.0              |\n",
      "|GsFurreal      |56.0              |\n",
      "|WhiteMountainDC|56.0              |\n",
      "|taurenmonk     |56.0              |\n",
      "|XoptimusprideX |56.0              |\n",
      "|I Johann117 I  |54.75             |\n",
      "|ProphetofDoom01|54.75             |\n",
      "|HisLattice1    |54.75             |\n",
      "|ForbiddenArtist|54.75             |\n",
      "|DRUNKxKANGAROO |54.75             |\n",
      "|Sexy is Back   |50.0              |\n",
      "|Darugis        |50.0              |\n",
      "|yungtrevor     |46.75             |\n",
      "|Chickensea1    |46.0              |\n",
      "|Miss Radiation |46.0              |\n",
      "|xNFG Fatel     |46.0              |\n",
      "|PrimePromethean|45.666666666666664|\n",
      "|BlightNB       |45.666666666666664|\n",
      "+---------------+------------------+\n",
      "only showing top 20 rows\n",
      "\n"
     ]
    },
    {
     "name": "stderr",
     "output_type": "stream",
     "text": [
      "                                                                                \r"
     ]
    }
   ],
   "source": [
    "print(\"Player who averages the most kills per game:\")\n",
    "player_avg_kills.show(truncate=False)"
   ]
  },
  {
   "cell_type": "code",
   "execution_count": 77,
   "id": "40597b92-ea9a-4ee2-aef8-39e9e1bce734",
   "metadata": {},
   "outputs": [
    {
     "name": "stdout",
     "output_type": "stream",
     "text": [
      "Playlist that gets played the most:\n"
     ]
    },
    {
     "name": "stderr",
     "output_type": "stream",
     "text": [
      "[Stage 112:======================================>                  (2 + 1) / 3]\r"
     ]
    },
    {
     "name": "stdout",
     "output_type": "stream",
     "text": [
      "+------------------------------------+------------+\n",
      "|playlist_id                         |times_played|\n",
      "+------------------------------------+------------+\n",
      "|f72e0ef0-7c4a-4307-af78-8e38dac3fdba|1565529     |\n",
      "|780cc101-005c-4fca-8ce7-6f36d7156ffe|1116002     |\n",
      "|0bcf2be1-3168-4e42-9fb5-3551d7dbce77|1015496     |\n",
      "|c98949ae-60a8-43dc-85d7-0feb0b92e719|824932      |\n",
      "|2323b76a-db98-4e03-aa37-e171cfbdd1a4|692342      |\n",
      "|892189e9-d712-4bdb-afa7-1ccab43fbed4|667670      |\n",
      "|f27a65eb-2d11-4965-aa9c-daa088fa5c9c|167498      |\n",
      "|355dc154-9809-4edb-8ed4-fff910c6ae9c|140006      |\n",
      "|d0766624-dbd7-4536-ba39-2d890a6143a9|138470      |\n",
      "|bc0f8ad6-31e6-4a18-87d9-ad5a2dbc8212|111073      |\n",
      "|7b7e892c-d9b7-4b03-bef8-c6a071df28ef|82723       |\n",
      "|7385b4a1-86bf-4aec-b9c2-411a6aa48633|76425       |\n",
      "|f0c9ef9a-48bd-4b24-9db3-2c76b4e23450|47813       |\n",
      "|b5d5a242-ffa5-4d88-a229-5031916be036|46411       |\n",
      "|819eb188-1a1c-48b4-9af3-283d2447ff6f|39404       |\n",
      "|d21c8381-26f1-4d65-832a-ef9fa0854eb5|37049       |\n",
      "|4b12472e-2a06-4235-ba58-f376be6c1b39|28733       |\n",
      "|5728f612-3f20-4459-98bd-3478c79c4861|28543       |\n",
      "|0504ca3c-de41-48f3-b9c8-3aab534d69e5|22502       |\n",
      "|88b7de19-113c-4beb-af7f-8553aeda3f4c|15860       |\n",
      "+------------------------------------+------------+\n",
      "only showing top 20 rows\n",
      "\n"
     ]
    },
    {
     "name": "stderr",
     "output_type": "stream",
     "text": [
      "                                                                                \r"
     ]
    }
   ],
   "source": [
    "# Question 2: Which playlist gets played the most?\n",
    "from pyspark.sql.functions import count, desc\n",
    "most_played_playlist = joined_df.groupBy(\"m.playlist_id\") \\\n",
    "    .agg(count(\"*\").alias(\"times_played\")) \\\n",
    "    .orderBy(desc(\"times_played\"))\n",
    "\n",
    "print(\"Playlist that gets played the most:\")\n",
    "most_played_playlist.show(truncate=False)\n"
   ]
  },
  {
   "cell_type": "code",
   "execution_count": 78,
   "id": "49717662-f57f-4050-9bb0-ebb2e444274a",
   "metadata": {},
   "outputs": [
    {
     "name": "stdout",
     "output_type": "stream",
     "text": [
      "Map that gets played the most:\n"
     ]
    },
    {
     "name": "stderr",
     "output_type": "stream",
     "text": [
      "[Stage 124:>                                                        (0 + 3) / 3]\r"
     ]
    },
    {
     "name": "stdout",
     "output_type": "stream",
     "text": [
      "+------------------------------------+------------+\n",
      "|mapid                               |times_played|\n",
      "+------------------------------------+------------+\n",
      "|c74c9d0f-f206-11e4-8330-24be05e24f7e|1445545     |\n",
      "|c7edbf0f-f206-11e4-aa52-24be05e24f7e|1435048     |\n",
      "|c7805740-f206-11e4-982c-24be05e24f7e|953278      |\n",
      "|cdb934b0-f206-11e4-8810-24be05e24f7e|396305      |\n",
      "|cb914b9e-f206-11e4-b447-24be05e24f7e|309045      |\n",
      "|ce1dc2de-f206-11e4-a646-24be05e24f7e|299736      |\n",
      "|cebd854f-f206-11e4-b46e-24be05e24f7e|298891      |\n",
      "|caacb800-f206-11e4-81ab-24be05e24f7e|291540      |\n",
      "|cd844200-f206-11e4-9393-24be05e24f7e|261162      |\n",
      "|cc040aa1-f206-11e4-a3e0-24be05e24f7e|256966      |\n",
      "|cdee4e70-f206-11e4-87a2-24be05e24f7e|244295      |\n",
      "|c7b7baf0-f206-11e4-ae9a-24be05e24f7e|204568      |\n",
      "|ca737f8f-f206-11e4-a7e2-24be05e24f7e|156631      |\n",
      "|cbcea2c0-f206-11e4-8c4a-24be05e24f7e|135375      |\n",
      "|cc74f4e1-f206-11e4-ad66-24be05e24f7e|132392      |\n",
      "|ce89a40f-f206-11e4-b83f-24be05e24f7e|65081       |\n",
      "+------------------------------------+------------+\n",
      "\n"
     ]
    },
    {
     "name": "stderr",
     "output_type": "stream",
     "text": [
      "                                                                                \r"
     ]
    }
   ],
   "source": [
    "#Question 3: Which map gets played the most?\n",
    "\n",
    "most_played_map = joined_df.groupBy(\"m.mapid\") \\\n",
    "    .agg(count(\"*\").alias(\"times_played\")) \\\n",
    "    .orderBy(desc(\"times_played\"))\n",
    "print(\"Map that gets played the most:\")\n",
    "most_played_map.show(truncate=False)"
   ]
  },
  {
   "cell_type": "code",
   "execution_count": 79,
   "id": "8359ca8a-a787-4031-a80f-dbdc4c1756da",
   "metadata": {},
   "outputs": [
    {
     "name": "stdout",
     "output_type": "stream",
     "text": [
      "Map where players get the most Killing Spree medals:\n"
     ]
    },
    {
     "name": "stderr",
     "output_type": "stream",
     "text": [
      "[Stage 136:=============================================>           (4 + 1) / 5]\r"
     ]
    },
    {
     "name": "stdout",
     "output_type": "stream",
     "text": [
      "+--------------+-------------------+\n",
      "|name          |killing_spree_count|\n",
      "+--------------+-------------------+\n",
      "|Alpine        |1445545            |\n",
      "|Breakout Arena|1435048            |\n",
      "|Glacier       |953278             |\n",
      "|Empire        |396305             |\n",
      "|The Rig       |309045             |\n",
      "|Truth         |299736             |\n",
      "|Coliseum      |298891             |\n",
      "|Plaza         |291540             |\n",
      "|Eden          |261162             |\n",
      "|Fathom        |256966             |\n",
      "|Regret        |244295             |\n",
      "|Parallax      |204568             |\n",
      "|NULL          |197473             |\n",
      "|Overgrowth    |156631             |\n",
      "|Riptide       |135375             |\n",
      "+--------------+-------------------+\n",
      "\n"
     ]
    },
    {
     "name": "stderr",
     "output_type": "stream",
     "text": [
      "                                                                                \r"
     ]
    }
   ],
   "source": [
    "#Question 4: Which map do players get the most Killing Spree medals on?\n",
    "\n",
    "#Filter for \"Killing Spree\" Medals\n",
    "# Assuming \"Killing Spree\" corresponds to a specific `medal_id`\n",
    "killing_spree_medals = medal_matches_players_df.alias(\"medal_matches\").join(\n",
    "    match_details_df.alias(\"match_details\"),\n",
    "    col(\"medal_matches.match_id\") == col(\"match_details.match_id\"),\n",
    "    \"inner\"\n",
    ")\n",
    "#Join the Results with Matches and Maps\n",
    "killing_spree_data = killing_spree_medals.join(\n",
    "    broadcast(matches_df.alias(\"matches\")),\n",
    "    col(\"medal_matches.match_id\") == col(\"matches.match_id\"),\n",
    "    \"inner\"\n",
    ").join(\n",
    "    broadcast(maps_df.alias(\"maps\")),\n",
    "    col(\"matches.mapid\") == col(\"maps.mapid\"),\n",
    "    \"inner\"\n",
    ")\n",
    "#Aggregate Data by Map\n",
    "most_killing_spree_map = killing_spree_data.groupBy(\"maps.name\") \\\n",
    "    .agg(count(\"medal_matches.medal_id\").alias(\"killing_spree_count\")) \\\n",
    "    .orderBy(desc(\"killing_spree_count\"))\n",
    "print(\"Map where players get the most Killing Spree medals:\")\n",
    "most_killing_spree_map.show(truncate=False)"
   ]
  },
  {
   "cell_type": "code",
   "execution_count": 80,
   "id": "bc7676df-07df-475a-a3e6-67daf1478149",
   "metadata": {},
   "outputs": [],
   "source": [
    "from pyspark.sql.functions import avg, count, col, desc"
   ]
  },
  {
   "cell_type": "code",
   "execution_count": 81,
   "id": "67aae2c7-98a2-4068-894d-436e75435be7",
   "metadata": {},
   "outputs": [],
   "source": [
    "# Step 1: Aggregate the Data\n",
    "aggregated_df = joined_df.groupBy(\"m.playlist_id\", \"m.mapid\") \\\n",
    "    .agg(\n",
    "        avg(\"md.player_total_kills\").alias(\"avg_kills\"),\n",
    "        count(\"*\").alias(\"total_plays\")\n",
    "    )"
   ]
  },
  {
   "cell_type": "code",
   "execution_count": 82,
   "id": "63fcd2f7-3a13-4afb-8565-e736ad06e1fc",
   "metadata": {},
   "outputs": [],
   "source": [
    "# Step 2: Define a Function to Measure Partition Sizes\n",
    "def partition_sizes(df):\n",
    "    return df.rdd.mapPartitions(lambda p: [sum(len(str(row)) for row in p)]).collect()\n",
    "\n",
    "def clean_data(df):\n",
    "    return df.dropDuplicates()"
   ]
  },
  {
   "cell_type": "code",
   "execution_count": 83,
   "id": "3f05263e-c50f-412d-837a-57f2eae1c9e4",
   "metadata": {},
   "outputs": [],
   "source": [
    "cleaned_df = clean_data(aggregated_df)"
   ]
  },
  {
   "cell_type": "code",
   "execution_count": 84,
   "id": "091e26d0-f3a6-4b9e-ba25-05db40b8ee70",
   "metadata": {},
   "outputs": [],
   "source": [
    "partition_results = []\n",
    "columns_to_test = [\"m.playlist_id\", \"m.mapid\"]  # Only low-cardinality columns"
   ]
  },
  {
   "cell_type": "code",
   "execution_count": null,
   "id": "36c8b21b-4891-4083-b661-c3ad515b7153",
   "metadata": {},
   "outputs": [
    {
     "name": "stderr",
     "output_type": "stream",
     "text": [
      "                                                                                \r"
     ]
    }
   ],
   "source": [
    "for num_partitions in [4, 8, 16]:\n",
    "    for column in columns_to_test:\n",
    "        repartitioned_df = cleaned_df.repartition(num_partitions, col(column))\n",
    "        sizes_before_sorting = partition_sizes(repartitioned_df)\n",
    "        sorted_df = repartitioned_df.sortWithinPartitions(column)\n",
    "        sizes_after_sorting = partition_sizes(sorted_df)\n",
    "        partition_results.append({\n",
    "            \"column\": column,\n",
    "            \"num_partitions\": num_partitions,\n",
    "            \"sizes_before_sorting\": sizes_before_sorting,\n",
    "            \"sizes_after_sorting\": sizes_after_sorting,\n",
    "            \"total_size_before\": sum(sizes_before_sorting),\n",
    "            \"total_size_after\": sum(sizes_after_sorting)\n",
    "        })\n"
   ]
  },
  {
   "cell_type": "code",
   "execution_count": null,
   "id": "8d08401a-ced2-4e3f-b716-4c9faa16fae3",
   "metadata": {},
   "outputs": [],
   "source": []
  }
 ],
 "metadata": {
  "kernelspec": {
   "display_name": "Python 3 (ipykernel)",
   "language": "python",
   "name": "python3"
  },
  "language_info": {
   "codemirror_mode": {
    "name": "ipython",
    "version": 3
   },
   "file_extension": ".py",
   "mimetype": "text/x-python",
   "name": "python",
   "nbconvert_exporter": "python",
   "pygments_lexer": "ipython3",
   "version": "3.9.18"
  }
 },
 "nbformat": 4,
 "nbformat_minor": 5
}
